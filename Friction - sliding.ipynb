{
 "cells": [
  {
   "cell_type": "markdown",
   "metadata": {},
   "source": [
    "# Determining the Coefficient of Friction (by sliding down a ramp)\n",
    "\n",
    "This notebook calculates the coefficient of friction for blocks (or whatever) of some material sliding down some ramp.\n",
    "\n",
    "The input values should be angles at which motion starts, for static friction coefficients, or angles of the ramp with the measured accelerations at those angles for dynamic friction coefficients.\n",
    "Acceleration measurements can be made filming the experiments and using an application like the [Tracker](https://opensourcephysics.github.io/tracker-website/) on the recorded videos."
   ]
  },
  {
   "cell_type": "code",
   "execution_count": 1,
   "metadata": {},
   "outputs": [],
   "source": [
    "import numpy as np\n",
    "from matplotlib import pyplot as plt\n",
    "\n",
    "g = 9.81"
   ]
  },
  {
   "cell_type": "code",
   "execution_count": 9,
   "metadata": {},
   "outputs": [
    {
     "name": "stdout",
     "output_type": "stream",
     "text": [
      "mu_stat_wood1 = 0.52 +- 0.08\n",
      "mu_stat_wood2 = 0.34 +- 0.06\n",
      "mu_stat_rubber1 = 0.66 +- 0.11\n",
      "mu_stat_rubber2 = 0.65 +- 0.07\n",
      "mu_stat_sandpaper = 0.47 +- 0.03\n"
     ]
    }
   ],
   "source": [
    "wood1_stat = np.radians(np.array([32, 27, 23])) # input: angles in deg, output: angles in rad\n",
    "wood2_stat = np.radians(np.array([15, 18, 23])) # input: angles in deg, output: angles in rad\n",
    "rubber1_stat = np.radians(np.array([33, 28, 39])) # input: angles in deg, output: angles in rad\n",
    "rubber2_stat = np.radians(np.array([29, 34, 35.5])) # input: angles in deg, output: angles in rad\n",
    "sandpaper_stat = np.radians(np.array([27, 25, 23.5])) # input: angles in deg, output: angles in rad\n",
    "\n",
    "mu_stat_wood1 = np.tan(wood1_stat)\n",
    "mu_stat_wood2 = np.tan(wood2_stat)\n",
    "mu_stat_rubber1 = np.tan(rubber1_stat)\n",
    "mu_stat_rubber2 = np.tan(rubber2_stat)\n",
    "mu_stat_sandpaper = np.tan(sandpaper_stat)\n",
    "\n",
    "#print(mu_stat_wood1)\n",
    "print(\"mu_stat_wood1 = {:.2f} +- {:.2f}\".format(np.mean(mu_stat_wood1), np.std(mu_stat_wood1)))\n",
    "#print(mu_stat_wood2)\n",
    "print(\"mu_stat_wood2 = {:.2f} +- {:.2f}\".format(np.mean(mu_stat_wood2), np.std(mu_stat_wood2)))\n",
    "#print(mu_stat_rubber1)\n",
    "print(\"mu_stat_rubber1 = {:.2f} +- {:.2f}\".format(np.mean(mu_stat_rubber1), np.std(mu_stat_rubber1)))\n",
    "#print(mu_stat_rubber2)\n",
    "print(\"mu_stat_rubber2 = {:.2f} +- {:.2f}\".format(np.mean(mu_stat_rubber2), np.std(mu_stat_rubber2)))\n",
    "#print(mu_stat_sandpaper)\n",
    "print(\"mu_stat_sandpaper = {:.2f} +- {:.2f}\".format(np.mean(mu_stat_sandpaper), np.std(mu_stat_sandpaper)))"
   ]
  },
  {
   "cell_type": "code",
   "execution_count": 10,
   "metadata": {},
   "outputs": [
    {
     "name": "stdout",
     "output_type": "stream",
     "text": [
      "mu_din_wood = 0.26 +- 0.01\n",
      "mu_din_rubber = 0.35 +- 0.02\n",
      "mu_din_sandpaper = 0.33 +- 0.01\n"
     ]
    }
   ],
   "source": [
    "wood_din_alpha = np.radians(np.array([17, 23, 28])) # input: angles in deg, output: angles in rad\n",
    "wood_din_a = np.array([0.59, 1.4, 2.22]) # input: acceleration in m/s^2\n",
    "rubber_din_alpha = np.radians(np.array([21, 24, 28])) # input: angles in deg, output: angles in rad\n",
    "rubber_din_a = np.array([0.55, 0.9, 1.4]) # input: acceleration in m/s^2\n",
    "sandpaper_din_alpha = np.radians(np.array([22, 26.5, 30])) # input: angles in deg, output: angles in rad\n",
    "sandpaper_din_a = np.array([0.58, 1.22, 1.89]) # input: acceleration in m/s^2\n",
    "\n",
    "mu_din_wood = np.tan(wood_din_alpha) - wood_din_a/(g*np.cos(wood_din_alpha))\n",
    "mu_din_rubber = np.tan(rubber_din_alpha) - rubber_din_a/(g*np.cos(rubber_din_alpha))\n",
    "mu_din_sandpaper = np.tan(sandpaper_din_alpha) - wood_din_a/(g*np.cos(sandpaper_din_alpha))\n",
    "\n",
    "#print(mu_din_wood)\n",
    "print(\"mu_din_wood = {:.2f} +- {:.2f}\".format(np.mean(mu_din_wood), np.std(mu_din_wood)))\n",
    "#print(mu_din_rubber)\n",
    "print(\"mu_din_rubber = {:.2f} +- {:.2f}\".format(np.mean(mu_din_rubber), np.std(mu_din_rubber)))\n",
    "#print(mu_din_sandpaper)\n",
    "print(\"mu_din_sandpaper = {:.2f} +- {:.2f}\".format(np.mean(mu_din_sandpaper), np.std(mu_din_sandpaper)))"
   ]
  },
  {
   "cell_type": "code",
   "execution_count": null,
   "metadata": {},
   "outputs": [],
   "source": []
  }
 ],
 "metadata": {
  "kernelspec": {
   "display_name": "Python 3 (ipykernel)",
   "language": "python",
   "name": "python3"
  },
  "language_info": {
   "codemirror_mode": {
    "name": "ipython",
    "version": 3
   },
   "file_extension": ".py",
   "mimetype": "text/x-python",
   "name": "python",
   "nbconvert_exporter": "python",
   "pygments_lexer": "ipython3",
   "version": "3.12.5"
  }
 },
 "nbformat": 4,
 "nbformat_minor": 4
}
